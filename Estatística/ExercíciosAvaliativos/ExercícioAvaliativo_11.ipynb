{
  "nbformat": 4,
  "nbformat_minor": 0,
  "metadata": {
    "colab": {
      "provenance": []
    },
    "kernelspec": {
      "name": "python3",
      "display_name": "Python 3"
    },
    "language_info": {
      "name": "python"
    }
  },
  "cells": [
    {
      "cell_type": "markdown",
      "source": [
        "Lestra a)"
      ],
      "metadata": {
        "id": "Zxo9QOEW1U1B"
      }
    },
    {
      "cell_type": "code",
      "execution_count": 6,
      "metadata": {
        "colab": {
          "base_uri": "https://localhost:8080/",
          "height": 0
        },
        "id": "Myy6-TBP1QjM",
        "outputId": "42eff040-fded-44a0-9c9f-ad0d8b44f875"
      },
      "outputs": [
        {
          "output_type": "stream",
          "name": "stdout",
          "text": [
            "Média amostral: 8.234\n",
            "Desvio padrão amostral: 0.025298221281347056\n",
            "Tempo crítico (unilateral, 5%): 1.7613101357748562\n",
            "Tempo amostra: 5.205165703414356\n",
            "Rejeita H0? True\n"
          ]
        }
      ],
      "source": [
        "# Dados fornecidos\n",
        "bastoes = [8.24, 8.21, 8.23, 8.25, 8.26, 8.23, 8.20, 8.26, 8.19, 8.23, 8.20, 8.28, 8.24, 8.25, 8.24]\n",
        "\n",
        "# 1. Calcula a média amostral manualmente\n",
        "soma = 0\n",
        "for valor in bastoes:\n",
        "    soma += valor\n",
        "media_amostra = soma / len(bastoes)  # média dos diâmetros\n",
        "\n",
        "# 2. Calcula o desvio padrão amostral manualmente\n",
        "soma_quadrados = 0\n",
        "for valor in bastoes:\n",
        "    soma_quadrados += (valor - media_amostra) ** 2\n",
        "desvio_amostra = (soma_quadrados / (len(bastoes) - 1)) ** 0.5\n",
        "\n",
        "# 3. Parâmetros do teste\n",
        "media_referencia = 8.20  # valor da hipótese nula\n",
        "alpha = 0.05\n",
        "n = len(bastoes)\n",
        "\n",
        "# 4. Valor t crítico para teste unilateral à direita\n",
        "from scipy.stats import t\n",
        "t_critico = t.ppf(1 - alpha, df=n-1)\n",
        "\n",
        "# 5. Calcula o valor t da amostra\n",
        "t_amostra = (media_amostra - media_referencia) / (desvio_amostra / (n ** 0.5))\n",
        "\n",
        "# 6. Decisão:\n",
        "rejeita_h0 = t_amostra > t_critico\n",
        "\n",
        "# Resultados detalhados\n",
        "print(\"Média amostral:\", media_amostra)\n",
        "print(\"Desvio padrão amostral:\", desvio_amostra)\n",
        "print(\"Tempo crítico (unilateral, 5%):\", t_critico)\n",
        "print(\"Tempo amostra:\", t_amostra)\n",
        "print(\"Rejeita H0?\", rejeita_h0)\n"
      ]
    },
    {
      "cell_type": "markdown",
      "source": [
        "Letra b)"
      ],
      "metadata": {
        "id": "xS-CZljK1gTN"
      }
    },
    {
      "cell_type": "code",
      "source": [
        "# Dados fornecidos\n",
        "bastoes = [8.24, 8.21, 8.23, 8.25, 8.26, 8.23, 8.20, 8.26, 8.19, 8.23, 8.20, 8.28, 8.24, 8.25, 8.24]\n",
        "\n",
        "# 1. Calcula a média amostral manualmente\n",
        "soma = 0\n",
        "for valor in bastoes:\n",
        "    soma += valor\n",
        "media_amostra = soma / len(bastoes)  # média dos diâmetros\n",
        "\n",
        "print(f\"Média amostral: {media_amostra}\")\n",
        "\n",
        "# 2. Calcula o desvio padrão amostral manualmente\n",
        "soma_quadrados = 0\n",
        "for valor in bastoes:\n",
        "    soma_quadrados += (valor - media_amostra) ** 2\n",
        "desvio_amostra = (soma_quadrados / (len(bastoes) - 1)) ** 0.5\n",
        "\n",
        "print(f\"Desvio padrão amostral: {desvio_amostra}\")\n",
        "\n",
        "# 3. Parâmetros do intervalo de confiança:\n",
        "alpha = 0.05  # nível de significância (5%)\n",
        "n = len(bastoes)  # tamanho da amostra = 15\n",
        "graus_liberdade = n - 1  # 14 graus de liberdade\n",
        "\n",
        "print(f\"Tamanho da amostra: {n}\")\n",
        "print(f\"Graus de liberdade: {graus_liberdade}\")\n",
        "\n",
        "# 4. Valor t crítico para intervalo bilateral 95%\n",
        "# Para 14 graus de liberdade e 95% de confiança bilateral\n",
        "t_critico_ic = 2.145\n",
        "\n",
        "print(f\"t crítico (95% bilateral, 14 gl): {t_critico_ic}\")\n",
        "\n",
        "# 5. Calcula o erro padrão da média\n",
        "erro_padrao = desvio_amostra / (n ** 0.5)\n",
        "\n",
        "print(f\"Erro padrão da média: {erro_padrao}\")\n",
        "\n",
        "# 6. Calcula os limites do intervalo de confiança\n",
        "ic_inferior = media_amostra - t_critico_ic * erro_padrao\n",
        "ic_superior = media_amostra + t_critico_ic * erro_padrao\n",
        "\n",
        "print(f\"\\nIntervalo de confiança 95%:\")\n",
        "print(f\"Limite inferior: {ic_inferior}\")\n",
        "print(f\"Limite superior: {ic_superior}\")\n",
        "print(f\"IC 95%: ({ic_inferior:.5f}, {ic_superior:.5f})\")\n"
      ],
      "metadata": {
        "colab": {
          "base_uri": "https://localhost:8080/",
          "height": 0
        },
        "id": "1psFRFvQ1fsV",
        "outputId": "ed26668f-06b4-4cdf-afa2-567c7f60eb81"
      },
      "execution_count": 5,
      "outputs": [
        {
          "output_type": "stream",
          "name": "stdout",
          "text": [
            "Média amostral: 8.234\n",
            "Desvio padrão amostral: 0.025298221281347056\n",
            "Tamanho da amostra: 15\n",
            "Graus de liberdade: 14\n",
            "t crítico (95% bilateral, 14 gl): 2.145\n",
            "Erro padrão da média: 0.006531972647421814\n",
            "\n",
            "Intervalo de confiança 95%:\n",
            "Limite inferior: 8.21998891867128\n",
            "Limite superior: 8.24801108132872\n",
            "IC 95%: (8.21999, 8.24801)\n"
          ]
        }
      ]
    }
  ]
}
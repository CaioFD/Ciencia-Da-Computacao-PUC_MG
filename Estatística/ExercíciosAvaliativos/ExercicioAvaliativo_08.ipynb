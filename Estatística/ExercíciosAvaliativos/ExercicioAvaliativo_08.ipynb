{
  "cells": [
    {
      "cell_type": "markdown",
      "id": "88cdceb4",
      "metadata": {
        "id": "88cdceb4"
      },
      "source": [
        "Parâmetros fornecidos:\n",
        "- Média (μ) = 2,04 mm\n",
        "- Variância (σ²) = 0,6084 mm²\n",
        "- Desvio padrão (σ) = √0,6084 ≈ 0,78 mm"
      ]
    },
    {
      "cell_type": "code",
      "execution_count": 7,
      "id": "c9414419",
      "metadata": {
        "colab": {
          "base_uri": "https://localhost:8080/"
        },
        "id": "c9414419",
        "outputId": "b0de03d6-64a4-4711-8920-5eb716cdc5e1"
      },
      "outputs": [
        {
          "output_type": "execute_result",
          "data": {
            "text/plain": [
              "(2.04, np.float64(0.78))"
            ]
          },
          "metadata": {},
          "execution_count": 7
        }
      ],
      "source": [
        "from scipy.stats import norm\n",
        "import numpy as np\n",
        "\n",
        "# Parâmetros da distribuição\n",
        "media = 2.04  # média\n",
        "variancia = 0.6084  # variância\n",
        "desvio_padrao = np.sqrt(variancia)  # desvio padrão\n",
        "\n",
        "media, desvio_padrao"
      ]
    },
    {
      "cell_type": "markdown",
      "id": "4a815557",
      "metadata": {
        "id": "4a815557"
      },
      "source": [
        "## Questão (a)\n",
        "Determine a probabilidade de uma peça apresentar diâmetro:\n",
        "1. menor que 2,81 mm\n",
        "2. maior que 1,8 mm\n",
        "3. entre 1,01 mm e 2,50 mm"
      ]
    },
    {
      "cell_type": "code",
      "execution_count": 8,
      "id": "c4fc5bc4",
      "metadata": {
        "colab": {
          "base_uri": "https://localhost:8080/"
        },
        "id": "c4fc5bc4",
        "outputId": "a231bfa8-b853-44ea-cacf-507181166e1e"
      },
      "outputs": [
        {
          "output_type": "execute_result",
          "data": {
            "text/plain": [
              "(np.float64(0.8382226720133152),\n",
              " np.float64(0.6208417632368548),\n",
              " np.float64(0.6289867874166152))"
            ]
          },
          "metadata": {},
          "execution_count": 8
        }
      ],
      "source": [
        "# i. P(X < 2.81)\n",
        "a_i = norm.cdf(2.81, loc=media, scale=desvio_padrao)\n",
        "\n",
        "# ii. P(X > 1.8)\n",
        "a_ii = 1 - norm.cdf(1.8, loc=media, scale=desvio_padrao)\n",
        "\n",
        "# iii. P(1.01 < X < 2.50)\n",
        "a_iii = norm.cdf(2.50, loc=media, scale=desvio_padrao) - norm.cdf(1.01, loc=media, scale=desvio_padrao)\n",
        "\n",
        "a_i, a_ii, a_iii"
      ]
    },
    {
      "cell_type": "markdown",
      "id": "b21e7c90",
      "metadata": {
        "id": "b21e7c90"
      },
      "source": [
        "## Questão (b)\n",
        "Se considerarmos 200 dessas peças, quantas podemos esperar que tenham o diâmetro entre 2,20 mm e 3,80 mm?"
      ]
    },
    {
      "cell_type": "code",
      "execution_count": 9,
      "id": "57226882",
      "metadata": {
        "colab": {
          "base_uri": "https://localhost:8080/"
        },
        "id": "57226882",
        "outputId": "f3c7b4e6-e413-40a1-c548-28a2b47e9cdb"
      },
      "outputs": [
        {
          "output_type": "execute_result",
          "data": {
            "text/plain": [
              "np.float64(81.34270105481731)"
            ]
          },
          "metadata": {},
          "execution_count": 9
        }
      ],
      "source": [
        "# P(2.20 < X < 3.80)\n",
        "prob_b = norm.cdf(3.80, loc=media, scale=desvio_padrao) - norm.cdf(2.20, loc=media, scale=desvio_padrao)\n",
        "Resultado_b = 200 * prob_b\n",
        "\n",
        "Resultado_b"
      ]
    },
    {
      "cell_type": "markdown",
      "id": "b99d34ce",
      "metadata": {
        "id": "b99d34ce"
      },
      "source": [
        "## Questão (c)\n",
        "Qual intervalo, simétrico em torno da média, que abrange 98% dos diâmetros das peças?"
      ]
    },
    {
      "cell_type": "code",
      "execution_count": 10,
      "id": "c5876d49",
      "metadata": {
        "colab": {
          "base_uri": "https://localhost:8080/"
        },
        "id": "c5876d49",
        "outputId": "9d869061-59db-460c-eba1-ce30f401ce79"
      },
      "outputs": [
        {
          "output_type": "execute_result",
          "data": {
            "text/plain": [
              "(np.float64(0.22544865824814408), np.float64(3.854551341751856))"
            ]
          },
          "metadata": {},
          "execution_count": 10
        }
      ],
      "source": [
        "# Intervalo centrado na média que abrange 98%\n",
        "intervalo_98 = norm.interval(0.98, loc=media, scale=desvio_padrao)\n",
        "intervalo_98"
      ]
    }
  ],
  "metadata": {
    "colab": {
      "provenance": []
    },
    "language_info": {
      "name": "python"
    },
    "kernelspec": {
      "name": "python3",
      "display_name": "Python 3"
    }
  },
  "nbformat": 4,
  "nbformat_minor": 5
}